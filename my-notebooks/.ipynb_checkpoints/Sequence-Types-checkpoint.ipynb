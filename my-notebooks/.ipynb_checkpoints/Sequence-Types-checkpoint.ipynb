{
 "cells": [
  {
   "cell_type": "markdown",
   "id": "f2e48618",
   "metadata": {},
   "source": [
    "### Sequences "
   ]
  },
  {
   "cell_type": "markdown",
   "id": "fce33232",
   "metadata": {},
   "source": [
    "#### Homogeneous\n",
    "\n",
    "Sequences that contain objects of the same type\n",
    "\n",
    "#### Hetetogeneous\n",
    "\n",
    "Sequences that contain objects of different types"
   ]
  },
  {
   "cell_type": "markdown",
   "id": "22adaea1",
   "metadata": {},
   "source": [
    "### Type of sequences"
   ]
  },
  {
   "cell_type": "markdown",
   "id": "b468ee70",
   "metadata": {},
   "source": [
    "`lists` - mutable heterogeneous types\n",
    "\n",
    "`tuples` - immutable heterogeneous types\n",
    "\n",
    "`string` - immutable homogeneous type (Yes! String is a sequence type)"
   ]
  },
  {
   "cell_type": "markdown",
   "id": "8fc75ea4",
   "metadata": {},
   "source": [
    "#### Tuples\n",
    "\n",
    "We can't add or remove elements from a tuple.\n",
    "\n",
    "Creating an empty tuple `tp = ()` is meaningless because it will stay empty."
   ]
  },
  {
   "cell_type": "code",
   "execution_count": 4,
   "id": "3528d2d3",
   "metadata": {},
   "outputs": [
    {
     "data": {
      "text/plain": [
       "(1, 2, [True, False], 'hello')"
      ]
     },
     "execution_count": 4,
     "metadata": {},
     "output_type": "execute_result"
    }
   ],
   "source": [
    "tp = (1, 2, [True, True], \"hello\")\n",
    "\n",
    "tp[2][1] = False\n",
    "tp\n",
    "# Tuples are immutable but they can contain mutable objects which we can change"
   ]
  },
  {
   "cell_type": "code",
   "execution_count": 6,
   "id": "5752bdbf",
   "metadata": {},
   "outputs": [
    {
     "data": {
      "text/plain": [
       "'Last Element'"
      ]
     },
     "execution_count": 6,
     "metadata": {},
     "output_type": "execute_result"
    }
   ],
   "source": [
    "tp = (5, [False, False, \"OK\"], 10, \"Last Element\")\n",
    "\n",
    "# We can get the last element using len()\n",
    "tp[len(tp) - 1]"
   ]
  },
  {
   "cell_type": "code",
   "execution_count": 23,
   "id": "e32f7068",
   "metadata": {},
   "outputs": [
    {
     "name": "stdout",
     "output_type": "stream",
     "text": [
      "140215316494016 140215316247936\n",
      "9793120 9793120\n",
      "9793088 9793088\n",
      "[[10, 20], 2, 3]\n",
      "([10, 20], 2, 3)\n"
     ]
    }
   ],
   "source": [
    "t = ([1, 20], 2, 3)\n",
    "l = list(t)\n",
    "# l and t are references to two different objects\n",
    "print(id(t), id(l))\n",
    "# but the objects inside of them are the same.\n",
    "# Only the pointers are copied not the data they are pointing to\n",
    "print(id(t[1]), id(l[1]))\n",
    "print(id(l[0][0]), id(t[0][0]))\n",
    "# Changing the values inside l or t will reflect on both\n",
    "l[0][0] = 10\n",
    "print(l)\n",
    "print(t)"
   ]
  },
  {
   "cell_type": "code",
   "execution_count": 12,
   "id": "9c0814f0",
   "metadata": {},
   "outputs": [],
   "source": [
    "l = list(t)\n",
    "l[0][0] = 10\n"
   ]
  },
  {
   "cell_type": "code",
   "execution_count": 13,
   "id": "ba6495e5",
   "metadata": {},
   "outputs": [
    {
     "data": {
      "text/plain": [
       "9793376"
      ]
     },
     "execution_count": 13,
     "metadata": {},
     "output_type": "execute_result"
    }
   ],
   "source": [
    "id(t[0][0])"
   ]
  },
  {
   "cell_type": "code",
   "execution_count": 14,
   "id": "4634ca0b",
   "metadata": {},
   "outputs": [
    {
     "data": {
      "text/plain": [
       "9793376"
      ]
     },
     "execution_count": 14,
     "metadata": {},
     "output_type": "execute_result"
    }
   ],
   "source": [
    "id(l[0][0])"
   ]
  },
  {
   "cell_type": "code",
   "execution_count": 15,
   "id": "8b2b92f1",
   "metadata": {},
   "outputs": [
    {
     "data": {
      "text/plain": [
       "([10, 20], 2, 3)"
      ]
     },
     "execution_count": 15,
     "metadata": {},
     "output_type": "execute_result"
    }
   ],
   "source": [
    "t\n"
   ]
  },
  {
   "cell_type": "markdown",
   "id": "ba6f8b5f",
   "metadata": {},
   "source": [
    "#### Strings\n",
    "\n",
    "Strings are sequences meaning we can can convert them to list and tuple"
   ]
  },
  {
   "cell_type": "code",
   "execution_count": 37,
   "id": "8c12d996",
   "metadata": {},
   "outputs": [],
   "source": [
    "l = [\"abcdef\"]\n",
    "s = str(l)\n"
   ]
  },
  {
   "cell_type": "markdown",
   "id": "4791d282",
   "metadata": {},
   "source": [
    "#### !!Be careful with strings"
   ]
  },
  {
   "cell_type": "code",
   "execution_count": 31,
   "id": "4ca75fb8",
   "metadata": {},
   "outputs": [],
   "source": [
    "# This will create a 3 x 3 matrix BUT\n",
    "# the memory addresses of the objects\n",
    "# will be the same. Modifing m[0] will also \n",
    "# modifiy m[1]\n",
    "m = [[0,0,0]] * 3"
   ]
  },
  {
   "cell_type": "code",
   "execution_count": 32,
   "id": "2b40ea18",
   "metadata": {},
   "outputs": [
    {
     "data": {
      "text/plain": [
       "[[0, 0, 0], [0, 0, 0], [0, 0, 0]]"
      ]
     },
     "execution_count": 32,
     "metadata": {},
     "output_type": "execute_result"
    }
   ],
   "source": [
    "m "
   ]
  },
  {
   "cell_type": "code",
   "execution_count": 33,
   "id": "5efffec0",
   "metadata": {},
   "outputs": [
    {
     "data": {
      "text/plain": [
       "(140215316591040, 140215316591040)"
      ]
     },
     "execution_count": 33,
     "metadata": {},
     "output_type": "execute_result"
    }
   ],
   "source": [
    "id(m[0]), id(m[1])"
   ]
  },
  {
   "cell_type": "code",
   "execution_count": 34,
   "id": "76fd645a",
   "metadata": {},
   "outputs": [],
   "source": [
    "m2 = [[0, 0, 0], [0, 0, 0]]"
   ]
  },
  {
   "cell_type": "code",
   "execution_count": 36,
   "id": "d7887b09",
   "metadata": {},
   "outputs": [
    {
     "data": {
      "text/plain": [
       "(140215315985536, 140215379172800)"
      ]
     },
     "execution_count": 36,
     "metadata": {},
     "output_type": "execute_result"
    }
   ],
   "source": [
    "id(m2[0]), id(m2[1])"
   ]
  },
  {
   "cell_type": "markdown",
   "id": "5e4b8a61",
   "metadata": {},
   "source": [
    "### Slicing \n",
    "\n",
    "Slicing works on all sequence types\n",
    "\n",
    "`[0:2]` - includes `0` excludes `2`\n",
    "\n",
    "It's ok to specify indexes outside the sequence bounds! "
   ]
  },
  {
   "cell_type": "code",
   "execution_count": 47,
   "id": "9063c738",
   "metadata": {},
   "outputs": [
    {
     "name": "stdout",
     "output_type": "stream",
     "text": [
      "Newton\n",
      "Newton\n"
     ]
    },
    {
     "data": {
      "text/plain": [
       "140215316378864"
      ]
     },
     "execution_count": 47,
     "metadata": {},
     "output_type": "execute_result"
    }
   ],
   "source": [
    "s = \"Newton\"\n",
    "# When slicing we can go out of the sequence types bounds\n",
    "print(s[0:1000])\n",
    "# We can leave it blank\n",
    "print(s[0:])\n",
    "id(s)"
   ]
  },
  {
   "cell_type": "code",
   "execution_count": 50,
   "id": "25476805",
   "metadata": {},
   "outputs": [
    {
     "data": {
      "text/plain": [
       "140215316378864"
      ]
     },
     "execution_count": 50,
     "metadata": {},
     "output_type": "execute_result"
    }
   ],
   "source": [
    "# Slicing makes a shallow copy\n",
    "s2 = s[:]\n",
    "id(s2)"
   ]
  },
  {
   "cell_type": "markdown",
   "id": "06cd2982",
   "metadata": {},
   "source": [
    "#### Slicing in steps\n",
    "\n",
    "[2 : 10 : 2]\n",
    "\n",
    "2 - start at index two (include it)\n",
    "\n",
    "10 - end at index ten (exclude it)\n",
    "\n",
    "2 - move in steps of two\n"
   ]
  },
  {
   "cell_type": "code",
   "execution_count": 52,
   "id": "06e5610e",
   "metadata": {},
   "outputs": [
    {
     "data": {
      "text/plain": [
       "'cegi'"
      ]
     },
     "execution_count": 52,
     "metadata": {},
     "output_type": "execute_result"
    }
   ],
   "source": [
    "s3 = 'abcdefghijklmnop'\n",
    "s3[2:10:2]"
   ]
  },
  {
   "cell_type": "markdown",
   "id": "7498d50d",
   "metadata": {},
   "source": [
    "#### Slice replacement"
   ]
  },
  {
   "cell_type": "code",
   "execution_count": 55,
   "id": "1a9d5c86",
   "metadata": {},
   "outputs": [
    {
     "data": {
      "text/plain": [
       "[1, 2, 3, 4, 5, 6, 7, 8]"
      ]
     },
     "execution_count": 55,
     "metadata": {},
     "output_type": "execute_result"
    }
   ],
   "source": [
    "l = [1, 2, 60, 50, 30, 6, 7, 8]\n",
    "l[2:5] = [3, 4, 5]\n",
    "l"
   ]
  },
  {
   "cell_type": "code",
   "execution_count": 67,
   "id": "2637e4c9",
   "metadata": {},
   "outputs": [
    {
     "data": {
      "text/plain": [
       "['I', 'l', 'o', 'v', 'e', 'python']"
      ]
     },
     "execution_count": 67,
     "metadata": {},
     "output_type": "execute_result"
    }
   ],
   "source": [
    "# Remember! String in python is a sequence type and will be treated as such.\n",
    "l1 = ['I', 3, 'python']\n",
    "l1[1:2] = 'love'\n",
    "l1"
   ]
  },
  {
   "cell_type": "code",
   "execution_count": 72,
   "id": "47e21c0b",
   "metadata": {},
   "outputs": [
    {
     "data": {
      "text/plain": [
       "[10, 2, 30, 4, 50, 6, 70, 8]"
      ]
     },
     "execution_count": 72,
     "metadata": {},
     "output_type": "execute_result"
    }
   ],
   "source": [
    "# We can replace values this way as well\n",
    "l2 = [1, 2, 3, 4, 5, 6, 7, 8]\n",
    "l2[::2] = [10, 30, 50, 70]\n",
    "l2"
   ]
  },
  {
   "cell_type": "code",
   "execution_count": 83,
   "id": "3e542c41",
   "metadata": {},
   "outputs": [
    {
     "name": "stdout",
     "output_type": "stream",
     "text": [
      "[8, 7]\n"
     ]
    },
    {
     "data": {
      "text/plain": [
       "[1, 2, 3, 6, 200, 100]"
      ]
     },
     "execution_count": 83,
     "metadata": {},
     "output_type": "execute_result"
    }
   ],
   "source": [
    "l3 = [1, 2, 3, 6, 7, 8]\n",
    "print(l3[:-3:-1])\n",
    "# The slice is going backwards, starting from the last element\n",
    "# Assignment with a backwards slice can be a bit confusing\n",
    "l3[:-3:-1] = 100, 200\n",
    "l3"
   ]
  },
  {
   "cell_type": "markdown",
   "id": "18e7797d",
   "metadata": {},
   "source": [
    "#### Delete an element from a mutable sequence\n",
    "\n",
    "We use `del`"
   ]
  },
  {
   "cell_type": "code",
   "execution_count": 90,
   "id": "38be1375",
   "metadata": {},
   "outputs": [
    {
     "name": "stdout",
     "output_type": "stream",
     "text": [
      "140215315417536\n",
      "Id of l4[1] is 9793120\n",
      "140215315417536\n"
     ]
    }
   ],
   "source": [
    "l4 = [1, 2, 3, 4, 5]\n",
    "print(id(l4))\n",
    "print(f\"Id of l4[1] is {id(l4[1])}\")\n",
    "del l4[2]\n",
    "print(f\"Id of l4[1] is {id(l4[1])}\")\n",
    "print(id(l4))"
   ]
  },
  {
   "cell_type": "markdown",
   "id": "35eadb55",
   "metadata": {},
   "source": [
    "#### Sequence manipulation\n",
    "\n",
    "`append` - appends a single object at the end \n",
    "\n",
    "`extend` - extends the original sequence with a givenn sequence\n",
    "\n",
    "`insert` - inserts an object at a given position (insertion is usually slow)"
   ]
  },
  {
   "cell_type": "code",
   "execution_count": 118,
   "id": "9cbe7433",
   "metadata": {},
   "outputs": [
    {
     "data": {
      "text/plain": [
       "140214936126320"
      ]
     },
     "execution_count": 118,
     "metadata": {},
     "output_type": "execute_result"
    }
   ],
   "source": [
    "l5 = [1, 2, 3, 4, 5, 23423, \"ada\"]\n",
    "l5.append(6)\n",
    "l5\n",
    "id(l5)\n",
    "id(l5[5])"
   ]
  },
  {
   "cell_type": "code",
   "execution_count": 119,
   "id": "26671667",
   "metadata": {},
   "outputs": [
    {
     "data": {
      "text/plain": [
       "140215400476016"
      ]
     },
     "execution_count": 119,
     "metadata": {},
     "output_type": "execute_result"
    }
   ],
   "source": [
    "l6 = [1, 2, 3, 4, 5, \"ada\"]\n",
    "id(l6)\n",
    "id(l6[5])"
   ]
  },
  {
   "cell_type": "code",
   "execution_count": null,
   "id": "0f848d94",
   "metadata": {},
   "outputs": [],
   "source": []
  }
 ],
 "metadata": {
  "kernelspec": {
   "display_name": "Python 3 (ipykernel)",
   "language": "python",
   "name": "python3"
  },
  "language_info": {
   "codemirror_mode": {
    "name": "ipython",
    "version": 3
   },
   "file_extension": ".py",
   "mimetype": "text/x-python",
   "name": "python",
   "nbconvert_exporter": "python",
   "pygments_lexer": "ipython3",
   "version": "3.8.10"
  }
 },
 "nbformat": 4,
 "nbformat_minor": 5
}
