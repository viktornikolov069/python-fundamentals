{
 "cells": [
  {
   "cell_type": "markdown",
   "id": "1da3ca67",
   "metadata": {},
   "source": [
    "### Premature optimization"
   ]
  },
  {
   "cell_type": "markdown",
   "id": "99dd9233",
   "metadata": {},
   "source": [
    "`Focus on readability first and optimization later if necessary. `\n",
    "\n",
    "Trying to optimise your code for performance is a trap most people fall in to. Performance optimization often comes at the cost of readability and that is how bugs can be created."
   ]
  },
  {
   "cell_type": "code",
   "execution_count": null,
   "id": "0b35fa64",
   "metadata": {},
   "outputs": [],
   "source": []
  },
  {
   "cell_type": "code",
   "execution_count": null,
   "id": "a0cfb4e9",
   "metadata": {},
   "outputs": [],
   "source": []
  },
  {
   "cell_type": "code",
   "execution_count": null,
   "id": "c30f7028",
   "metadata": {},
   "outputs": [],
   "source": []
  }
 ],
 "metadata": {
  "kernelspec": {
   "display_name": "Python 3 (ipykernel)",
   "language": "python",
   "name": "python3"
  },
  "language_info": {
   "codemirror_mode": {
    "name": "ipython",
    "version": 3
   },
   "file_extension": ".py",
   "mimetype": "text/x-python",
   "name": "python",
   "nbconvert_exporter": "python",
   "pygments_lexer": "ipython3",
   "version": "3.8.10"
  }
 },
 "nbformat": 4,
 "nbformat_minor": 5
}
