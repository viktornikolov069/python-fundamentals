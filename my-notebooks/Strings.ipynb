{
 "cells": [
  {
   "cell_type": "code",
   "execution_count": 1,
   "id": "b7c533e5",
   "metadata": {},
   "outputs": [
    {
     "data": {
      "text/plain": [
       "65"
      ]
     },
     "execution_count": 1,
     "metadata": {},
     "output_type": "execute_result"
    }
   ],
   "source": [
    "ord('A')"
   ]
  },
  {
   "cell_type": "code",
   "execution_count": 3,
   "id": "fe2e3669",
   "metadata": {},
   "outputs": [
    {
     "data": {
      "text/plain": [
       "'0x41'"
      ]
     },
     "execution_count": 3,
     "metadata": {},
     "output_type": "execute_result"
    }
   ],
   "source": [
    "hex(65)"
   ]
  },
  {
   "cell_type": "code",
   "execution_count": 4,
   "id": "9fdc97e8",
   "metadata": {},
   "outputs": [
    {
     "data": {
      "text/plain": [
       "'0x41'"
      ]
     },
     "execution_count": 4,
     "metadata": {},
     "output_type": "execute_result"
    }
   ],
   "source": [
    "hex(ord('A'))"
   ]
  },
  {
   "cell_type": "code",
   "execution_count": 7,
   "id": "005d039b",
   "metadata": {},
   "outputs": [
    {
     "data": {
      "text/plain": [
       "65"
      ]
     },
     "execution_count": 7,
     "metadata": {},
     "output_type": "execute_result"
    }
   ],
   "source": [
    "int('41', 16)"
   ]
  },
  {
   "cell_type": "code",
   "execution_count": 15,
   "id": "1fbcc22c",
   "metadata": {},
   "outputs": [],
   "source": [
    "var = \"\\N{Snake}\""
   ]
  },
  {
   "cell_type": "code",
   "execution_count": 16,
   "id": "fa76c8ff",
   "metadata": {},
   "outputs": [
    {
     "data": {
      "text/plain": [
       "'🐍'"
      ]
     },
     "execution_count": 16,
     "metadata": {},
     "output_type": "execute_result"
    }
   ],
   "source": [
    "var"
   ]
  },
  {
   "cell_type": "code",
   "execution_count": 26,
   "id": "b28c4cbd",
   "metadata": {},
   "outputs": [],
   "source": [
    "var2 = \"\\u008D\""
   ]
  },
  {
   "cell_type": "code",
   "execution_count": 38,
   "id": "72484cbb",
   "metadata": {},
   "outputs": [
    {
     "data": {
      "text/plain": [
       "'\\x8d'"
      ]
     },
     "execution_count": 38,
     "metadata": {},
     "output_type": "execute_result"
    }
   ],
   "source": [
    "var2"
   ]
  },
  {
   "cell_type": "code",
   "execution_count": 39,
   "id": "3e411cad",
   "metadata": {},
   "outputs": [
    {
     "data": {
      "text/plain": [
       "128013"
      ]
     },
     "execution_count": 39,
     "metadata": {},
     "output_type": "execute_result"
    }
   ],
   "source": [
    "ord('🐍')"
   ]
  },
  {
   "cell_type": "code",
   "execution_count": 31,
   "id": "37e3fdca",
   "metadata": {},
   "outputs": [
    {
     "data": {
      "text/plain": [
       "'0x1f40d'"
      ]
     },
     "execution_count": 31,
     "metadata": {},
     "output_type": "execute_result"
    }
   ],
   "source": [
    "hex(ord('🐍'))"
   ]
  },
  {
   "cell_type": "code",
   "execution_count": 36,
   "id": "596167ba",
   "metadata": {},
   "outputs": [],
   "source": [
    "var = \"\\U0001f40D\""
   ]
  },
  {
   "cell_type": "code",
   "execution_count": 37,
   "id": "6ab93084",
   "metadata": {},
   "outputs": [
    {
     "data": {
      "text/plain": [
       "'🐍'"
      ]
     },
     "execution_count": 37,
     "metadata": {},
     "output_type": "execute_result"
    }
   ],
   "source": [
    "var"
   ]
  },
  {
   "cell_type": "markdown",
   "id": "065e050e",
   "metadata": {},
   "source": [
    "### String Methods"
   ]
  },
  {
   "cell_type": "code",
   "execution_count": 40,
   "id": "9092dd71",
   "metadata": {},
   "outputs": [],
   "source": [
    "msg = 'The definitive guide to python'"
   ]
  },
  {
   "cell_type": "markdown",
   "id": "5cb2fcee",
   "metadata": {},
   "source": [
    "Use str.casefold() for case insensitive comparissons"
   ]
  },
  {
   "cell_type": "markdown",
   "id": "c70679bb",
   "metadata": {},
   "source": [
    "#### Join and Split"
   ]
  },
  {
   "cell_type": "code",
   "execution_count": 43,
   "id": "83a1aed2",
   "metadata": {},
   "outputs": [
    {
     "data": {
      "text/plain": [
       "('John', ' Michael', ' The Third')"
      ]
     },
     "execution_count": 43,
     "metadata": {},
     "output_type": "execute_result"
    }
   ],
   "source": [
    "name = 'John, Michael, The Third'\n",
    "first_name, middle_name, last_name = name.split(',')\n",
    "first_name, middle_name, last_name\n"
   ]
  },
  {
   "cell_type": "code",
   "execution_count": 46,
   "id": "b01933cf",
   "metadata": {},
   "outputs": [
    {
     "data": {
      "text/plain": [
       "'data 1--data 2--data 3'"
      ]
     },
     "execution_count": 46,
     "metadata": {},
     "output_type": "execute_result"
    }
   ],
   "source": [
    "data = ['data 1', 'data 2', 'data 3']\n",
    "'--'.join(data)"
   ]
  },
  {
   "cell_type": "code",
   "execution_count": 47,
   "id": "8bb91df6",
   "metadata": {},
   "outputs": [
    {
     "data": {
      "text/plain": [
       "'A,B,C,D'"
      ]
     },
     "execution_count": 47,
     "metadata": {},
     "output_type": "execute_result"
    }
   ],
   "source": [
    "','.join('ABCD')"
   ]
  },
  {
   "cell_type": "markdown",
   "id": "f0434321",
   "metadata": {},
   "source": [
    "#### Find \n",
    "\n",
    "Returns -1 and works only with strings\n",
    "\n",
    "For sequences in general use `in`\n",
    "\n",
    "`in` is also 3 times faster than `find()`"
   ]
  },
  {
   "cell_type": "code",
   "execution_count": 64,
   "id": "c4f027fa",
   "metadata": {},
   "outputs": [],
   "source": [
    "message = \"This is apple taking longer than I want apple\""
   ]
  },
  {
   "cell_type": "code",
   "execution_count": 78,
   "id": "367289df",
   "metadata": {},
   "outputs": [
    {
     "data": {
      "text/plain": [
       "40"
      ]
     },
     "execution_count": 78,
     "metadata": {},
     "output_type": "execute_result"
    }
   ],
   "source": [
    "message.find('apple',8 + len('apple')) # \n"
   ]
  },
  {
   "cell_type": "code",
   "execution_count": 75,
   "id": "cfe76607",
   "metadata": {},
   "outputs": [],
   "source": [
    "?str.find"
   ]
  },
  {
   "cell_type": "code",
   "execution_count": 74,
   "id": "927ceb14",
   "metadata": {},
   "outputs": [
    {
     "data": {
      "text/plain": [
       "0.49589252100122394"
      ]
     },
     "execution_count": 74,
     "metadata": {},
     "output_type": "execute_result"
    }
   ],
   "source": [
    "from timeit import timeit\n",
    "\n",
    "timeit('\"want\" in message', globals=globals(), number=10000000)"
   ]
  },
  {
   "cell_type": "code",
   "execution_count": 62,
   "id": "185ca384",
   "metadata": {},
   "outputs": [
    {
     "data": {
      "text/plain": [
       "1.108222985003522"
      ]
     },
     "execution_count": 62,
     "metadata": {},
     "output_type": "execute_result"
    }
   ],
   "source": [
    "timeit('message.find(\"want\")', globals=globals(), number=10000000)"
   ]
  },
  {
   "cell_type": "markdown",
   "id": "c486a242",
   "metadata": {},
   "source": [
    "### String interpolation and formatting"
   ]
  },
  {
   "cell_type": "code",
   "execution_count": 91,
   "id": "8bb16547",
   "metadata": {},
   "outputs": [
    {
     "data": {
      "text/plain": [
       "'open_: 98.00, high: 97.00, low: 96.00, close: 95.00'"
      ]
     },
     "execution_count": 91,
     "metadata": {},
     "output_type": "execute_result"
    }
   ],
   "source": [
    "open_, high, low, close = 98, 97, 96, 95\n",
    "'open_: {a:.2f}, high: {b:.2f}, low: {c:.2f}, close: {d:.2f}'.\\\n",
    "format(a=open_, b=high, c=low, d=close)"
   ]
  },
  {
   "cell_type": "code",
   "execution_count": 93,
   "id": "031fd7cc",
   "metadata": {},
   "outputs": [
    {
     "data": {
      "text/plain": [
       "'bid = 2.2500, ask = 1.0900, spread = -1.1600'"
      ]
     },
     "execution_count": 93,
     "metadata": {},
     "output_type": "execute_result"
    }
   ],
   "source": [
    "bid = 2.25\n",
    "ask = 1.09\n",
    "f'bid = {bid:.4f}, ask = {ask:.4f}, spread = {ask - bid:.4f}'"
   ]
  },
  {
   "cell_type": "code",
   "execution_count": null,
   "id": "89a4b01f",
   "metadata": {},
   "outputs": [],
   "source": []
  }
 ],
 "metadata": {
  "kernelspec": {
   "display_name": "Python 3 (ipykernel)",
   "language": "python",
   "name": "python3"
  },
  "language_info": {
   "codemirror_mode": {
    "name": "ipython",
    "version": 3
   },
   "file_extension": ".py",
   "mimetype": "text/x-python",
   "name": "python",
   "nbconvert_exporter": "python",
   "pygments_lexer": "ipython3",
   "version": "3.8.10"
  }
 },
 "nbformat": 4,
 "nbformat_minor": 5
}
