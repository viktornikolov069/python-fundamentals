{
 "cells": [
  {
   "cell_type": "code",
   "execution_count": 1,
   "id": "e23abd03",
   "metadata": {},
   "outputs": [
    {
     "name": "stdout",
     "output_type": "stream",
     "text": [
      "5000000\n"
     ]
    }
   ],
   "source": [
    "a = 5_000_000\n",
    "print(a)"
   ]
  },
  {
   "cell_type": "code",
   "execution_count": 2,
   "id": "41fc0d2a",
   "metadata": {},
   "outputs": [
    {
     "data": {
      "text/plain": [
       "'0.1000000000000000055511151'"
      ]
     },
     "execution_count": 2,
     "metadata": {},
     "output_type": "execute_result"
    }
   ],
   "source": [
    "format(0.1, \".25f\")"
   ]
  },
  {
   "cell_type": "markdown",
   "id": "7e2c62d3",
   "metadata": {},
   "source": [
    "The format() function in the case above shows $0.1$ with $25$ digits after the decimal point. $0.1$ is not an exact number."
   ]
  },
  {
   "cell_type": "code",
   "execution_count": 3,
   "id": "eb875358",
   "metadata": {},
   "outputs": [
    {
     "data": {
      "text/plain": [
       "False"
      ]
     },
     "execution_count": 3,
     "metadata": {},
     "output_type": "execute_result"
    }
   ],
   "source": [
    "0.1 + 0.1 + 0.1 == 0.3"
   ]
  },
  {
   "cell_type": "markdown",
   "id": "670018d7",
   "metadata": {},
   "source": [
    "Don't comper floating point numbers with $==$ because they are not exact as seen with the format() function."
   ]
  },
  {
   "cell_type": "code",
   "execution_count": 4,
   "id": "a13e7798",
   "metadata": {},
   "outputs": [
    {
     "data": {
      "text/plain": [
       "True"
      ]
     },
     "execution_count": 4,
     "metadata": {},
     "output_type": "execute_result"
    }
   ],
   "source": [
    "eps = 0.0001\n",
    "abs((0.1 + 0.1 + 0.1) - 0.3) < eps\n",
    "#This is a better way of doing floating point comparison"
   ]
  },
  {
   "cell_type": "markdown",
   "id": "a24e6459",
   "metadata": {},
   "source": [
    "## Objects"
   ]
  },
  {
   "cell_type": "markdown",
   "id": "b9e6c0a7",
   "metadata": {},
   "source": [
    "Int is an object in python. (10).__add__(100) $__add__$ is a dunder method."
   ]
  },
  {
   "cell_type": "code",
   "execution_count": 3,
   "id": "c219263a",
   "metadata": {},
   "outputs": [
    {
     "data": {
      "text/plain": [
       "110"
      ]
     },
     "execution_count": 3,
     "metadata": {},
     "output_type": "execute_result"
    }
   ],
   "source": [
    "(10).__add__(100)\n",
    "#Example of an int object"
   ]
  },
  {
   "cell_type": "markdown",
   "id": "ddb70b59",
   "metadata": {},
   "source": [
    "Float is an object as well"
   ]
  },
  {
   "cell_type": "code",
   "execution_count": 10,
   "id": "5b1b79d4",
   "metadata": {},
   "outputs": [
    {
     "data": {
      "text/plain": [
       "(1, 4)"
      ]
     },
     "execution_count": 10,
     "metadata": {},
     "output_type": "execute_result"
    }
   ],
   "source": [
    "(0.25).as_integer_ratio()"
   ]
  },
  {
   "cell_type": "markdown",
   "id": "349e15d1",
   "metadata": {},
   "source": [
    "Every data type in python is an object"
   ]
  },
  {
   "cell_type": "markdown",
   "id": "43945692",
   "metadata": {},
   "source": [
    "## Variables\n"
   ]
  },
  {
   "cell_type": "code",
   "execution_count": 12,
   "id": "3c7e291b",
   "metadata": {},
   "outputs": [],
   "source": [
    "a = 10"
   ]
  },
  {
   "cell_type": "markdown",
   "id": "ac10fa07",
   "metadata": {},
   "source": [
    "Variable assignment happens starting from the right. First the object $10$ is created. Then the label $a$ is assigned to it. The label might just be a pointer."
   ]
  },
  {
   "cell_type": "markdown",
   "id": "44ff9aea",
   "metadata": {},
   "source": [
    "### PEP8 "
   ]
  },
  {
   "cell_type": "markdown",
   "id": "8426afe1",
   "metadata": {},
   "source": [
    "PEP 8 Style Guide: The conventions tipycally followed by python devs."
   ]
  },
  {
   "cell_type": "code",
   "execution_count": 14,
   "id": "cb143523",
   "metadata": {},
   "outputs": [
    {
     "data": {
      "text/plain": [
       "float"
      ]
     },
     "execution_count": 14,
     "metadata": {},
     "output_type": "execute_result"
    }
   ],
   "source": [
    "type(4/2) # This is called float division"
   ]
  },
  {
   "cell_type": "code",
   "execution_count": 47,
   "id": "bf0bf0dd",
   "metadata": {},
   "outputs": [],
   "source": [
    "class Vector:\n",
    "    def __init__(self, x, y):\n",
    "        self.x = x\n",
    "        self.y = y\n",
    "        \n",
    "    def __repr__(self):\n",
    "        return (f'Vector({self.x}, {self.y})')\n",
    "        \n",
    "    def __add__(self, other):\n",
    "        return Vector(self.x + other.x, self.y + other.y)\n",
    "    \n",
    "    def __eq__(self, other):\n",
    "        if isinstance(other, Vector):\n",
    "            return self.x == other.x and self.y == other.y\n",
    "        "
   ]
  },
  {
   "cell_type": "code",
   "execution_count": 48,
   "id": "94cfa869",
   "metadata": {},
   "outputs": [],
   "source": [
    "v1 = Vector(1, 2)\n",
    "v2 = Vector(2, 3)"
   ]
  },
  {
   "cell_type": "code",
   "execution_count": 49,
   "id": "35802747",
   "metadata": {},
   "outputs": [
    {
     "data": {
      "text/plain": [
       "Vector(3, 5)"
      ]
     },
     "execution_count": 49,
     "metadata": {},
     "output_type": "execute_result"
    }
   ],
   "source": [
    "v1 + v2"
   ]
  },
  {
   "cell_type": "markdown",
   "id": "2891387e",
   "metadata": {},
   "source": [
    "## Comparison Operators\n"
   ]
  },
  {
   "cell_type": "code",
   "execution_count": 50,
   "id": "1046f0f9",
   "metadata": {},
   "outputs": [],
   "source": [
    "a = 10000009\n",
    "c = a\n",
    "b = a\n",
    "z = 10000009"
   ]
  },
  {
   "cell_type": "code",
   "execution_count": 26,
   "id": "b6afdd29",
   "metadata": {},
   "outputs": [
    {
     "data": {
      "text/plain": [
       "True"
      ]
     },
     "execution_count": 26,
     "metadata": {},
     "output_type": "execute_result"
    }
   ],
   "source": [
    "c is b"
   ]
  },
  {
   "cell_type": "code",
   "execution_count": 27,
   "id": "62f83a7d",
   "metadata": {},
   "outputs": [
    {
     "data": {
      "text/plain": [
       "True"
      ]
     },
     "execution_count": 27,
     "metadata": {},
     "output_type": "execute_result"
    }
   ],
   "source": [
    "c is a"
   ]
  },
  {
   "cell_type": "code",
   "execution_count": 36,
   "id": "47f12fb8",
   "metadata": {},
   "outputs": [
    {
     "data": {
      "text/plain": [
       "True"
      ]
     },
     "execution_count": 36,
     "metadata": {},
     "output_type": "execute_result"
    }
   ],
   "source": [
    "c is z"
   ]
  },
  {
   "cell_type": "code",
   "execution_count": 44,
   "id": "9cf8783e",
   "metadata": {},
   "outputs": [],
   "source": [
    "x = 10000009"
   ]
  },
  {
   "cell_type": "code",
   "execution_count": 38,
   "id": "6b0e0dd9",
   "metadata": {},
   "outputs": [
    {
     "data": {
      "text/plain": [
       "True"
      ]
     },
     "execution_count": 38,
     "metadata": {},
     "output_type": "execute_result"
    }
   ],
   "source": [
    "a is x"
   ]
  },
  {
   "cell_type": "code",
   "execution_count": 45,
   "id": "374ecec2",
   "metadata": {},
   "outputs": [
    {
     "data": {
      "text/plain": [
       "(140219132213936, 140219132214448, 140219132214768)"
      ]
     },
     "execution_count": 45,
     "metadata": {},
     "output_type": "execute_result"
    }
   ],
   "source": [
    "id(a), id(z), id(x)"
   ]
  },
  {
   "cell_type": "markdown",
   "id": "26fbe4fb",
   "metadata": {},
   "source": [
    "The \"is\" keyword is used to compare the memory addresses of objects"
   ]
  },
  {
   "cell_type": "markdown",
   "id": "ab206a13",
   "metadata": {},
   "source": [
    "Tip!! Dunder methods are used to override the behaviour of opperands and probaby other things I'm yet not aware of."
   ]
  },
  {
   "cell_type": "code",
   "execution_count": 51,
   "id": "f36afbaa",
   "metadata": {},
   "outputs": [],
   "source": [
    "v1 = Vector(1, 1)\n",
    "v2 = Vector(1, 1)\n",
    "v3 = Vector(2, 3)"
   ]
  },
  {
   "cell_type": "markdown",
   "id": "121f67de",
   "metadata": {},
   "source": [
    "In this case v1 and v2 should be equal but what does that mean in therms of vectors. The answer is that currently it means nothing because we haven't implemented this behaviour using dunder methods. The only thing python currently knows about these objects is their addresses and so it will compare them in that way."
   ]
  },
  {
   "cell_type": "code",
   "execution_count": 52,
   "id": "b05c5092",
   "metadata": {},
   "outputs": [
    {
     "data": {
      "text/plain": [
       "True"
      ]
     },
     "execution_count": 52,
     "metadata": {},
     "output_type": "execute_result"
    }
   ],
   "source": [
    "v1 == v2 ## If the __eq__ dunder method is not used the comaprison will be False\n",
    "         # because python will use the memory addrresses by default\n",
    "         # If __eq__is used a custom comparisson behaviour will be implemented and\n",
    "         # the result s"
   ]
  },
  {
   "cell_type": "markdown",
   "id": "22e7966b",
   "metadata": {},
   "source": [
    "## Division and Modulus"
   ]
  },
  {
   "cell_type": "markdown",
   "id": "d994819d",
   "metadata": {},
   "source": [
    "$//$ - integer divison 43 / 5 = 8 (int)\n",
    "\n",
    "$/$ - floating point division 43 / 5 = 8 (float)\n",
    "\n",
    "% - returns the remainder (int)"
   ]
  },
  {
   "cell_type": "code",
   "execution_count": 4,
   "id": "e2c8bfa9",
   "metadata": {},
   "outputs": [
    {
     "data": {
      "text/plain": [
       "int"
      ]
     },
     "execution_count": 4,
     "metadata": {},
     "output_type": "execute_result"
    }
   ],
   "source": [
    "type(9 // 5)"
   ]
  },
  {
   "cell_type": "code",
   "execution_count": 5,
   "id": "f2f4300f",
   "metadata": {},
   "outputs": [
    {
     "data": {
      "text/plain": [
       "float"
      ]
     },
     "execution_count": 5,
     "metadata": {},
     "output_type": "execute_result"
    }
   ],
   "source": [
    "type(9 / 5)"
   ]
  },
  {
   "cell_type": "code",
   "execution_count": 6,
   "id": "9fe7f365",
   "metadata": {},
   "outputs": [
    {
     "data": {
      "text/plain": [
       "int"
      ]
     },
     "execution_count": 6,
     "metadata": {},
     "output_type": "execute_result"
    }
   ],
   "source": [
    "type(9 % 5)"
   ]
  },
  {
   "cell_type": "code",
   "execution_count": 7,
   "id": "4c125a5f",
   "metadata": {},
   "outputs": [
    {
     "data": {
      "text/plain": [
       "2.4"
      ]
     },
     "execution_count": 7,
     "metadata": {},
     "output_type": "execute_result"
    }
   ],
   "source": [
    "12 / 5"
   ]
  },
  {
   "cell_type": "code",
   "execution_count": 8,
   "id": "97938925",
   "metadata": {},
   "outputs": [
    {
     "data": {
      "text/plain": [
       "2"
      ]
     },
     "execution_count": 8,
     "metadata": {},
     "output_type": "execute_result"
    }
   ],
   "source": [
    "12 // 5"
   ]
  },
  {
   "cell_type": "markdown",
   "id": "ccb7e45d",
   "metadata": {},
   "source": [
    "### Shot-circuit evaluation"
   ]
  },
  {
   "cell_type": "markdown",
   "id": "1eaf2eac",
   "metadata": {},
   "source": [
    "In python short-circuit evaluation is a way of doing less needless operations. For example:"
   ]
  },
  {
   "cell_type": "code",
   "execution_count": 5,
   "id": "d69b40b0",
   "metadata": {},
   "outputs": [],
   "source": [
    "symbol = 123\n",
    "\n",
    "def stock_exchange(symbol):\n",
    "    # Check if exchange is open\n",
    "    return False\n",
    "def calc_signal(symbol):\n",
    "    # Do expensive calculations\n",
    "    return True\n",
    "def buy(symbol):\n",
    "    # Buy\n",
    "    return\n",
    "\n",
    "# This is the wrong way of creating this if statement\n",
    "# We want to short-circuit so the calc_signal doesn't get evaluated \n",
    "# needlessly\n",
    "if calc_signal(symbol) and stock_exchange(symbol):\n",
    "    buy(symbol)\n",
    "\n",
    "# This is the right way of short-circuiting an expression\n",
    "# Here stock_exchange will be evaluated fisrt and if False\n",
    "# calc_signal will not be evaluated\n",
    "if stock_exchange(symbol) and calc_signal(symbol):\n",
    "    buy(symbol)\n",
    "    "
   ]
  },
  {
   "cell_type": "code",
   "execution_count": null,
   "id": "ea41717a",
   "metadata": {},
   "outputs": [],
   "source": []
  },
  {
   "cell_type": "code",
   "execution_count": null,
   "id": "74930f16",
   "metadata": {},
   "outputs": [],
   "source": []
  },
  {
   "cell_type": "code",
   "execution_count": null,
   "id": "54aece2f",
   "metadata": {},
   "outputs": [],
   "source": []
  },
  {
   "cell_type": "code",
   "execution_count": null,
   "id": "545c9699",
   "metadata": {},
   "outputs": [],
   "source": []
  },
  {
   "cell_type": "code",
   "execution_count": null,
   "id": "45add53f",
   "metadata": {},
   "outputs": [],
   "source": []
  },
  {
   "cell_type": "code",
   "execution_count": null,
   "id": "38990068",
   "metadata": {},
   "outputs": [],
   "source": []
  },
  {
   "cell_type": "code",
   "execution_count": null,
   "id": "3d5aefed",
   "metadata": {},
   "outputs": [],
   "source": []
  },
  {
   "cell_type": "code",
   "execution_count": null,
   "id": "4efc7102",
   "metadata": {},
   "outputs": [],
   "source": []
  }
 ],
 "metadata": {
  "kernelspec": {
   "display_name": "Python 3 (ipykernel)",
   "language": "python",
   "name": "python3"
  },
  "language_info": {
   "codemirror_mode": {
    "name": "ipython",
    "version": 3
   },
   "file_extension": ".py",
   "mimetype": "text/x-python",
   "name": "python",
   "nbconvert_exporter": "python",
   "pygments_lexer": "ipython3",
   "version": "3.8.10"
  }
 },
 "nbformat": 4,
 "nbformat_minor": 5
}
